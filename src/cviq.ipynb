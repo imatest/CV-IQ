{
 "cells": [
  {
   "cell_type": "code",
   "execution_count": 15,
   "id": "f2768c40",
   "metadata": {},
   "outputs": [],
   "source": [
    "# Correlating the performance of computer vision algorithms relative to objective image quality\n",
    "import numpy as np\n",
    "import pgmagick\n",
    "from pgmagick import Image\n",
    "import sys\n",
    "\n",
    "for noise in range(0,5):\n",
    "    img = Image('esfriso.png')\n",
    "    for noiseIterations in range(noise):\n",
    "        img.addNoise(pgmagick.NoiseType.GaussianNoise)\n",
    "    \n",
    "    for blur in range(0,5,1):\n",
    "        bimg = img\n",
    "        bimg.blur(blur,blur+1)\n",
    "        bimg.write('output_image_noise' + str(noise) +'_blur' + str(blur) + '.png')\n",
    "    \n",
    "\n"
   ]
  }
 ],
 "metadata": {
  "interpreter": {
   "hash": "81794d4967e6c3204c66dcd87b604927b115b27c00565d3d43f05ba2f3a2cb0d"
  },
  "kernelspec": {
   "display_name": "Python 3",
   "language": "python",
   "name": "python3"
  },
  "language_info": {
   "codemirror_mode": {
    "name": "ipython",
    "version": 3
   },
   "file_extension": ".py",
   "mimetype": "text/x-python",
   "name": "python",
   "nbconvert_exporter": "python",
   "pygments_lexer": "ipython3",
   "version": "3.8.8"
  }
 },
 "nbformat": 4,
 "nbformat_minor": 5
}
